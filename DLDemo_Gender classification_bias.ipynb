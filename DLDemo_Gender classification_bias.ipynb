{
 "cells": [
  {
   "cell_type": "markdown",
   "id": "e60823d9-ae21-4fe4-8a8e-a6ab82651084",
   "metadata": {},
   "source": [
    "# DEMO NOTEBOOK"
   ]
  },
  {
   "cell_type": "markdown",
   "id": "96406628-18c6-4d70-a331-7664b9a279e6",
   "metadata": {},
   "source": [
    "**Import all the libraries**\n",
    "\n",
    "Importing libraries for data handling, visualization, deep learning, image processing, and model evaluation.\n"
   ]
  },
  {
   "cell_type": "code",
   "execution_count": null,
   "id": "32dfc007-e164-4da9-9347-cf3a3dbb3036",
   "metadata": {},
   "outputs": [],
   "source": [
    "import os\n",
    "import numpy as np\n",
    "import pandas as pd\n",
    "import matplotlib.pyplot as plt\n",
    "import tensorflow as tf\n",
    "import cv2\n",
    "from sklearn.metrics import mean_absolute_error, accuracy_score, confusion_matrix, ConfusionMatrixDisplay\n",
    "from tensorflow.keras.models import load_model\n",
    "import subprocess\n",
    "import gdown\n",
    "import pickle"
   ]
  },
  {
   "cell_type": "markdown",
   "id": "3e558b36-68ce-4382-a5f0-13ad09c5ffdb",
   "metadata": {},
   "source": [
    "**Demo Code - To download files**\n",
    "\n",
    "I defined a function to download files from Google Drive using file IDs, and downloading all required model and dataset files if they don't already exist. It skips the download if the file has already been downloaded"
   ]
  },
  {
   "cell_type": "code",
   "execution_count": null,
   "id": "3cc8ecb7-8189-4651-ba74-1ff4b066449d",
   "metadata": {
    "scrolled": true
   },
   "outputs": [],
   "source": [
    "def download_file(file_id, output):\n",
    "    url = f\"https://drive.google.com/uc?id={file_id}\"\n",
    "    if os.path.exists(output):\n",
    "        print(f\"{output} already exists, skipping download.\")\n",
    "    else:\n",
    "        gdown.download(url, output, quiet=True)\n",
    "        print(f\"Downloaded {output}\")\n",
    "\n",
    "download_file(\"1ms24THoput1n58NTo2TjZI1Rt0WTWJF\", \"face_age\")\n",
    "download_file(\"19nQRWGdeRbebgohygTslh80_ERMle88r\", \"test_set.csv\")\n",
    "download_file(\"1CciU3xti-8lbkKLsVQqhrQF7R6qT5VRi\", \"best_regression_model.h5\")\n",
    "download_file(\"1-V4i2p-NWIZjSbgT8mOcoM8yjbnfLx-Z\", \"best_classification_model.h5\")\n",
    "download_file(\"1fKaSCp0-tIcj1tDVpQ2ouJVt19fcHq-q\", \"block1_set.csv\")\n",
    "download_file(\"1fzbPYJeFhlvAXha2r4yn-qsOcRgzjeKS\", \"block2_set.csv\")\n",
    "download_file(\"1_jf1yhsHTLTzbMfiwbBG0zwQcxoIuGJy\", \"autoencoder_best_model.h5\")\n",
    "download_file(\"1iow6FC0mol3Zf-ys-uIbpn061zy-i5vH\", \"autoencoder_history.pkl\")\n",
    "download_file(\"13ZV3EjAaQtk-Y1r0JW-nxGIhzT-ItExa\", \"transfer_learning_block2.h5\")\n",
    "download_file(\"1X3OQh34rBCNOhqBfAaIU6Ty_CYl1hGEu\", \"backbone_history.pkl\")\n",
    "download_file(\"1EJAiAxXccTsJrpmeOkHyYr7GUX_WsD0U\", \"backbone_block1.h5\")\n",
    "download_file(\"1LDWJVoBltIPkV8za3AieaCElEIOyB0se\", \"test_set_with_gender.csv\")\n",
    "download_file(\"1ZPaZ2FKz6m0Bm_vdksB0hpDahvRkI-VE\", \"biased_model_male_only.h5\")\n",
    "download_file(\"1iaCM6Y_b7Cumo32SbQTjqHTHNLpsQT7G\", \"balanced_model.h5\")\n"
   ]
  },
  {
   "cell_type": "markdown",
   "id": "827373aa-7889-4973-a992-67860df46af2",
   "metadata": {},
   "source": [
    "**Configure local image base path**\n",
    "\n",
    "Here, I'm configuring the local image base path where the image file is present"
   ]
  },
  {
   "cell_type": "code",
   "execution_count": null,
   "id": "567df101-7ee2-4626-952f-54367144f3d1",
   "metadata": {},
   "outputs": [],
   "source": [
    "# Get the user's Downloads directory\n",
    "downloads_path = os.path.join(os.path.expanduser(\"~\"), \"Downloads\")\n",
    "image_base_path = os.path.join(downloads_path, \"face_age\")\n",
    "print(f\"Using local image base path: {image_base_path}.\")"
   ]
  },
  {
   "cell_type": "markdown",
   "id": "04f9909c-8cf0-4835-acea-6fa69fb25f71",
   "metadata": {},
   "source": [
    "**Load the test data and check if the image exists**\n",
    "\n",
    "Loading the test data and printing a sample image paths from the test_set.csv file just to confirm the image paths and to check if the image exists."
   ]
  },
  {
   "cell_type": "code",
   "execution_count": null,
   "id": "36eb322e-58c1-4b3a-b776-515fcd47788f",
   "metadata": {},
   "outputs": [],
   "source": [
    "df_test = pd.read_csv(\"test_set.csv\")\n",
    "print(\"Sample image paths from test_set.csv:\")\n",
    "print(df_test['image_path'].head())"
   ]
  },
  {
   "cell_type": "code",
   "execution_count": null,
   "id": "e07a9e2b-a502-40a4-bdeb-9c8c5409680b",
   "metadata": {},
   "outputs": [],
   "source": [
    "df_test['full_path'] = df_test['image_path'].apply(\n",
    "    lambda x: os.path.join(image_base_path, x.replace('face_age\\\\', '').replace('face_age/', '').lstrip('\\\\').lstrip('/'))\n",
    ")\n",
    "#Check if first few paths exist\n",
    "print(\"Checking first 5 full paths:\")\n",
    "for path in df_test['full_path'].head():\n",
    "    print(f\"{path}: {'Exists' if os.path.exists(path) else 'Missing'}\")"
   ]
  },
  {
   "cell_type": "markdown",
   "id": "9ed98cbb-db83-4004-bef9-120185aa170a",
   "metadata": {},
   "source": [
    "# REGRESSION AND CLASSIFICATION DEMO"
   ]
  },
  {
   "cell_type": "markdown",
   "id": "22e29575-7fe3-4862-8643-3c38f8dd1126",
   "metadata": {},
   "source": [
    "**Load the images for Regression and classification**\n",
    "\n",
    "I loaded test images from file paths in 'df_test'. Each image was processed as follows:\n",
    "\n",
    "1. For classification, images were loaded in BGR format, converted to RGB, resized to 128×128 pixels, and normalized.\n",
    "2. For regression, images were loaded in BGR format, converted to RGB, resized to 128×128 pixels, and normalized.\n",
    "\n",
    "I then extracted:\n",
    "\n",
    "1. 'X_test_class' for the classification model, which contains the processed RGB images.\n",
    "2. 'y_test_class' as the one-hot encoded labels for classification.\n",
    "3. 'X_test_reg' for the regression model, which contains the processed RGB images.\n",
    "4. 'y_test_reg' as the continuous age labels for regression.\n",
    "\n",
    "Finally, I confirmed the shapes of the extracted data:\n",
    "\n",
    "1. 'X_test_class' shape: (978, 128, 128, 3)\n",
    "2. 'y_test_class' shape: (978, 6)\n",
    "3. 'X_test_reg'  shape: (978, 128, 128, 3)\n",
    "4. 'y_test_reg' shape: (978,)\n"
   ]
  },
  {
   "cell_type": "code",
   "execution_count": null,
   "id": "4667146b-5085-4080-a135-404c1c367e14",
   "metadata": {},
   "outputs": [],
   "source": [
    "import numpy as np\n",
    "import cv2\n",
    "import pandas as pd\n",
    "import os\n",
    "from tqdm import tqdm\n",
    "from sklearn.preprocessing import LabelEncoder\n",
    "from tensorflow.keras.utils import to_categorical\n",
    "from sklearn.metrics import mean_absolute_error\n",
    "\n",
    "# Function to load images and labels\n",
    "def load_images(df, img_size=(128, 128), for_classification=True):\n",
    "    images = []\n",
    "    labels = []\n",
    "\n",
    "    for _, row in tqdm(df.iterrows(), total=len(df)):\n",
    "        path = row['image_path']\n",
    "        if not os.path.exists(path):\n",
    "            print(f\"Missing: {path}\")\n",
    "            continue\n",
    "        \n",
    "        img = cv2.imread(path)\n",
    "        if img is None:\n",
    "            print(f\"Failed to load: {path}\")\n",
    "            continue\n",
    "\n",
    "        if for_classification:\n",
    "            # RGB for classification\n",
    "            img = cv2.resize(img, img_size).astype('float32') / 255.0\n",
    "            images.append(img)\n",
    "            labels.append(row['age_category'])\n",
    "        else:\n",
    "            # Grayscale for regression model\n",
    "            img = cv2.cvtColor(img, cv2.COLOR_BGR2GRAY)\n",
    "            img = cv2.resize(img, img_size).astype('float32') / 255.0\n",
    "            img = np.expand_dims(img, axis=-1)  # Convert to (128, 128, 1)\n",
    "            images.append(img)\n",
    "            labels.append(row['age'])\n",
    "\n",
    "    images = np.array(images, dtype='float32')\n",
    "\n",
    "    if for_classification:\n",
    "        # Encode categorical labels\n",
    "        label_encoder = LabelEncoder()\n",
    "        labels = label_encoder.fit_transform(labels)\n",
    "        labels = to_categorical(labels, num_classes=6)\n",
    "        return images, labels, label_encoder\n",
    "    else:\n",
    "        return images, np.array(labels, dtype='float32')\n",
    "\n",
    "# Load test data\n",
    "df_test = pd.read_csv('test_set.csv')\n",
    "\n",
    "# Load classification data (RGB)\n",
    "X_test_class, y_test_class, label_encoder = load_images(df_test, for_classification=True)\n",
    "\n",
    "# Load regression data (Grayscale)\n",
    "X_test_reg, y_test_reg = load_images(df_test, for_classification=False)\n",
    "\n",
    "# Verify shapes\n",
    "print(f\"Loaded {len(X_test_class)} test images for classification.\")\n",
    "print(f\"X_test_class shape (for class_model): {X_test_class.shape}\")\n",
    "print(f\"y_test_class shape: {y_test_class.shape}\")\n",
    "print(f\"Loaded {len(X_test_reg)} test images for regression.\")\n",
    "print(f\"X_test_reg shape (for reg_model): {X_test_reg.shape}\")\n",
    "print(f\"y_test_reg shape: {y_test_reg.shape}\")\n",
    "print(f\"LabelEncoder classes: {label_encoder.classes_}\")\n"
   ]
  },
  {
   "cell_type": "markdown",
   "id": "f896a2ae-5856-44f1-8681-2b5d288f681b",
   "metadata": {},
   "source": [
    "**Load Models**\n",
    "\n",
    "I've loaded all the trained models here instead of calling them separately . loaded the regression,classification, autoencoder,biased,balanced models and have confirmed if they were loaded sucessfully or not by the confirmation message at the end that \"All the models has been sucessfully loaded!\"."
   ]
  },
  {
   "cell_type": "code",
   "execution_count": null,
   "id": "e46cf124-52ed-4a9a-9793-3b72e5c42a3c",
   "metadata": {},
   "outputs": [],
   "source": [
    "reg_model = load_model(\"best_regression_model.h5\")\n",
    "class_model = load_model(\"best_classification_model.h5\")\n",
    "autoencoder = load_model(\"autoencoder_best_model.h5\")\n",
    "transfer_model = load_model(\"transfer_learning_block2.h5\")\n",
    "backbone_model = load_model(\"backbone_block1.h5\")\n",
    "biased_model = load_model(\"biased_model_male_only.h5\")\n",
    "balanced_model = load_model(\"balanced_model.h5\")\n",
    "\n",
    "print(\"All the models has been sucessfully loaded!\")"
   ]
  },
  {
   "cell_type": "markdown",
   "id": "467f59f8-5c5c-4b01-bdd2-ab044294acf8",
   "metadata": {},
   "source": [
    "**Age Regression Prediction**\n",
    "\n",
    "I've used the 'reg_model' to predict ages on the grayscale test data ('X_test_gray'). Then I calculated the Mean Absolute Error (MAE) between the predicted and actual ages\n",
    "\n",
    "mae: the average difference in years between predicted and true ages"
   ]
  },
  {
   "cell_type": "code",
   "execution_count": null,
   "id": "87cba0f1-581f-4b23-a268-9cde509d4c76",
   "metadata": {},
   "outputs": [],
   "source": [
    "y_pred_reg = reg_model.predict(X_test_reg, verbose=0).flatten()\n",
    "mae = mean_absolute_error(y_test_reg, y_pred_reg)\n",
    "print(f\"Age Regression MAE: {mae:.2f} years\")"
   ]
  },
  {
   "cell_type": "markdown",
   "id": "82558121-7160-45b8-8f16-20d8e117f1b8",
   "metadata": {},
   "source": [
    "**Age Classification Prediction**\n",
    "\n",
    "I've used the 'class_model' to predict age categories on the RGB test data ('X_test_rgb'). Then I calculated the accuracy by comparing the predicted labels with the true labels\n",
    "\n",
    "acc: the percentage of correctly predicted age categories."
   ]
  },
  {
   "cell_type": "code",
   "execution_count": null,
   "id": "efebe725-03f6-4777-a58c-9e158554aeeb",
   "metadata": {},
   "outputs": [],
   "source": [
    "y_pred_class = class_model.predict(X_test_class, verbose=0)  \n",
    "y_pred_labels = np.argmax(y_pred_class, axis=1)\n",
    "y_true_labels = np.argmax(y_test_class, axis=1)\n",
    "acc = accuracy_score(y_true_labels, y_pred_labels)\n",
    "print(f\"Age Classification Accuracy: {acc:.2%}\")\n"
   ]
  },
  {
   "cell_type": "markdown",
   "id": "2021aa66-c4e8-452c-b9c0-baba9585db85",
   "metadata": {},
   "source": [
    "**Confusion Matrix**\n",
    "\n",
    "I plotted the confusion matrix for the age classification model to visualize the prediction performance. The matrix shows how well the model predicted each age category. Each row is the true age, each column is the predicted age, and the numbers show how many times the model made each prediction.  Darker squares mean more predictions in that category.\n"
   ]
  },
  {
   "cell_type": "code",
   "execution_count": null,
   "id": "2fb5585f-0121-4142-9055-ce0a46687ab1",
   "metadata": {
    "scrolled": true
   },
   "outputs": [],
   "source": [
    "plt.figure(figsize=(8, 6))\n",
    "cm = confusion_matrix(y_true_labels, y_pred_labels)\n",
    "disp = ConfusionMatrixDisplay(confusion_matrix=cm,\n",
    "                              display_labels=pd.get_dummies(df_test['age_category']).columns)\n",
    "disp.plot(cmap=plt.cm.Blues, xticks_rotation=45)\n",
    "plt.title(\"Confusion Matrix - Age Classification\")\n",
    "plt.tight_layout()\n",
    "plt.show()\n"
   ]
  },
  {
   "cell_type": "markdown",
   "id": "09b2db0a-7cd3-4f72-b421-a249c767bcdd",
   "metadata": {},
   "source": [
    "**Regression Scatter plot for visualisation**\n",
    "\n",
    "I created a scatter plot to visualize the regression model's performance by comparing true ages with predicted ages. This plot shows how well a model predicts age.  Each point represents a person.  The x-axis is their actual age, and the y-axis is the age the model predicted.  The red line shows perfect predictions.  The closer the points are to the red line, the better the model is."
   ]
  },
  {
   "cell_type": "code",
   "execution_count": null,
   "id": "834d41e8-02a2-4d90-9eb4-b7c6a75ba546",
   "metadata": {
    "scrolled": true
   },
   "outputs": [],
   "source": [
    "y_true_reg = y_test_reg  # True continuous ages (1D array)\n",
    "plt.figure(figsize=(8, 6))\n",
    "plt.scatter(y_true_reg, y_pred_reg, alpha=0.7)\n",
    "plt.xlabel(\"True Age\")\n",
    "plt.ylabel(\"Predicted Age\")\n",
    "plt.title(\"Regression Performance: Predicted vs. True Age\")\n",
    "plt.plot([y_true_reg.min(), y_true_reg.max()], [y_true_reg.min(), y_true_reg.max()], 'r--')\n",
    "plt.grid(True)\n",
    "plt.tight_layout()\n",
    "plt.show()"
   ]
  },
  {
   "cell_type": "markdown",
   "id": "c6e13069-10ba-4786-a244-431bd4c4aaa0",
   "metadata": {},
   "source": [
    "**Show Sample Predictions for Regression and classification**\n",
    "\n",
    "created a function 'show_predictions()' to display random sample predictions for both regression and classification tasks. For each sample:\n",
    "\n",
    "**1. Regression**: Shows the true vs. predicted age values\n",
    "\n",
    "**2. Classification**: Shows the true vs. predicted age category"
   ]
  },
  {
   "cell_type": "code",
   "execution_count": null,
   "id": "17e561dd-7f1a-4239-9423-be71f95a3173",
   "metadata": {
    "scrolled": true
   },
   "outputs": [],
   "source": [
    "def show_predictions(X, y_true, y_pred, task=\"regression\", n=5):\n",
    "    plt.figure(figsize=(10, 6))\n",
    "    indices = np.random.choice(len(X), n, replace=False)\n",
    "    for i in range(n):\n",
    "        plt.subplot(1, n, i+1)\n",
    "        plt.imshow(X[indices[i]])\n",
    "        title = f\"True: {y_true[indices[i]]}\\nPred: {y_pred[indices[i]]:.1f}\" if task == \"regression\" else f\"True: {df_test.iloc[indices[i]]['age_category']}\\nPred: {pd.get_dummies(df_test['age_category']).columns[y_pred[indices[i]]]}\"\n",
    "        plt.title(title); plt.axis('off')\n",
    "    plt.tight_layout(); plt.show()\n",
    "\n",
    "print(\"\\n Sample Regression Predictions:\")\n",
    "show_predictions(X_test_reg, y_test_reg, y_pred_reg, task=\"regression\", n=5)\n",
    "\n",
    "print(\"\\n Sample Classification Predictions:\")\n",
    "show_predictions(X_test_class, y_true_labels, y_pred_labels, task=\"classification\", n=5)\n"
   ]
  },
  {
   "cell_type": "markdown",
   "id": "4f6f39e2-b675-451d-8a76-51356a99899f",
   "metadata": {},
   "source": [
    "# Autoencoder Demo"
   ]
  },
  {
   "cell_type": "markdown",
   "id": "ee74ef4e-994c-4810-9ae2-5b20b213baf5",
   "metadata": {},
   "source": [
    "**Evaluate the Training and Valoidation loss**\n",
    "\n",
    "Here, I captured all the history and saved it in the part 2 as autoencoder_history.pkl file, Later loaded here for the demo section to print the metrics"
   ]
  },
  {
   "cell_type": "code",
   "execution_count": null,
   "id": "33e93d75-81d8-4617-b56e-3359981ca809",
   "metadata": {},
   "outputs": [],
   "source": [
    "df_block_1 = pd.read_csv(\"block1_set.csv\")\n",
    "\n",
    "# Load training history\n",
    "with open(\"autoencoder_history.pkl\", \"rb\") as f:\n",
    "    history = pickle.load(f)\n",
    "\n",
    "# Print losses\n",
    "print(f\"Autoencoder Training Loss (Final Epoch): {history['loss'][-1]:.4f}\")\n",
    "print(f\"Autoencoder Validation Loss (Final Epoch): {history['val_loss'][-1]:.4f}\")"
   ]
  },
  {
   "cell_type": "markdown",
   "id": "e2c25874-d33f-406a-a1d7-61e1cf4da245",
   "metadata": {},
   "source": [
    "**Demonstrated the autoencoder's ability to reconstruct images by comparing the original images with their reconstructed versions.**"
   ]
  },
  {
   "cell_type": "code",
   "execution_count": null,
   "id": "a1b60914-5376-49dc-b636-f304f100006e",
   "metadata": {
    "scrolled": true
   },
   "outputs": [],
   "source": [
    "print(\"Autoencoder Reconstruction Demo:\")\n",
    "try:\n",
    "    import numpy as np\n",
    "    n_samples = 5\n",
    "    indices = np.random.choice(X_test_class.shape[0], n_samples, replace=False)\n",
    "    images = X_test_class[indices]\n",
    "    reconstructions = autoencoder.predict(images, verbose=0)\n",
    "    if reconstructions.shape != images.shape:\n",
    "        raise ValueError(\"Reconstruction shape error\")\n",
    "    plt.figure(figsize=(10, 4))\n",
    "    for i in range(n_samples):\n",
    "        plt.subplot(2, n_samples, i + 1); plt.imshow(images[i]); plt.title(\"Original\"); plt.axis('off')\n",
    "        plt.subplot(2, n_samples, i + n_samples + 1); plt.imshow(reconstructions[i]); plt.title(\"Reconstructed\"); plt.axis('off')\n",
    "    plt.suptitle(\"Autoencoder Reconstructions\"); plt.tight_layout(); plt.show()\n",
    "except Exception as e:\n",
    "    print(f\"Error: {e}\")\n"
   ]
  },
  {
   "cell_type": "markdown",
   "id": "65b95d0c-8015-4e7b-bf32-e9ada29dd242",
   "metadata": {},
   "source": [
    "These images shows how well an autoencoder recreates face images.  The top row has the original images, and the bottom row has the autoencoder's reconstructions.  It's a visual comparison of the input and output of the autoencoder."
   ]
  },
  {
   "cell_type": "markdown",
   "id": "25b880ba-c61d-4b1a-a227-113f3490e42b",
   "metadata": {},
   "source": [
    "# Transfer Learning Demo"
   ]
  },
  {
   "cell_type": "markdown",
   "id": "ec1ca9e5-d8ce-41e6-9157-45bc7702cdb2",
   "metadata": {},
   "source": [
    "**Model Evaluation Summary**\n",
    "\n",
    "Implemented a function to load and preprocess images from specified paths, ensuring they are resized to (128, 128) and normalized for model input. I loaded the test dataset from a CSV file and constructed full image paths for loading. To prepare the labels for evaluation, I used 'LabelEncoder' to convert categorical labels into a numerical format. The transfer learning model was then evaluated on the test dataset, calculating both test loss and accuracy. Finally, I compared the test accuracy of the current model against the best accuracy from Part1l to assess the performance"
   ]
  },
  {
   "cell_type": "code",
   "execution_count": null,
   "id": "a83c1172-6812-42d9-9be3-aa33c7860304",
   "metadata": {
    "scrolled": true
   },
   "outputs": [],
   "source": [
    "from tensorflow.keras.utils import to_categorical\n",
    "\n",
    "def load_images_from_paths(image_paths, image_size=(128, 128)):\n",
    "    images = []\n",
    "    for path in image_paths:\n",
    "        if os.path.exists(path):\n",
    "            img = cv2.imread(path)\n",
    "            img = cv2.cvtColor(img, cv2.COLOR_BGR2RGB)\n",
    "            img = cv2.resize(img, image_size)\n",
    "            img = img.astype('float32') / 255.0\n",
    "            images.append(img)\n",
    "        else:\n",
    "            print(f\"Image not found: {path}\")\n",
    "    return np.array(images)\n",
    "\n",
    "# Load test CSV\n",
    "df_test = pd.read_csv('test_set.csv')\n",
    "\n",
    "df_test['full_path'] = df_test['image_path']  \n",
    "\n",
    "# Load images\n",
    "test_paths = df_test['full_path'].values\n",
    "X_test = load_images_from_paths(test_paths)\n",
    "\n",
    "# Encode labels\n",
    "label_encoder = LabelEncoder()\n",
    "y_test_encoded = label_encoder.fit_transform(df_test['age_category'])\n",
    "y_test_class = to_categorical(y_test_encoded, num_classes=6) \n",
    "\n",
    "test_loss, test_acc = transfer_model.evaluate(X_test, y_test_class)\n",
    "print(f\"Transfer Learning Test Accuracy: {test_acc:.4f}\")\n",
    "print(f\"Comparison to Part 1 Best Model: {test_acc - acc:+.4f}\")"
   ]
  },
  {
   "cell_type": "markdown",
   "id": "233aae2c-5452-46d7-8dd9-af01ff08142e",
   "metadata": {},
   "source": [
    "**Visualize Sample Predictions from Transfer Learning Model**"
   ]
  },
  {
   "cell_type": "code",
   "execution_count": null,
   "id": "5af4000f-60d3-4087-bc20-cf9697dfd00f",
   "metadata": {
    "scrolled": true
   },
   "outputs": [],
   "source": [
    "# Predict class probabilities\n",
    "y_pred_probs = transfer_model.predict(X_test)\n",
    "y_pred_classes = np.argmax(y_pred_probs, axis=1)\n",
    "y_true_classes = np.argmax(y_test_class, axis=1)\n",
    "\n",
    "# Convert back to label names\n",
    "pred_labels = label_encoder.inverse_transform(y_pred_classes)\n",
    "true_labels = label_encoder.inverse_transform(y_true_classes)\n",
    "\n",
    "num_samples = 5  # Number of samples to visualize\n",
    "random_indices = np.random.choice(len(X_test), size=num_samples, replace=False)\n",
    "\n",
    "# Visualize the randomly selected samples\n",
    "plt.figure(figsize=(12, 6))\n",
    "\n",
    "for i, idx in enumerate(random_indices):\n",
    "    plt.subplot(1, num_samples, i + 1)\n",
    "    plt.imshow(X_test[idx])\n",
    "    is_correct = pred_labels[idx] == true_labels[idx]\n",
    "    color = 'green' if is_correct else 'red'\n",
    "    plt.title(f\"Pred: {pred_labels[idx]}\\nTrue: {true_labels[idx]}\", color=color)\n",
    "    plt.axis('off')\n",
    "\n",
    "plt.tight_layout()\n",
    "plt.subplots_adjust(top=0.85)\n",
    "plt.suptitle(\"Sample Transfer Learning Predictions\", fontsize=16)\n",
    "plt.show()"
   ]
  },
  {
   "cell_type": "markdown",
   "id": "6d641645-5bde-4673-be0b-624650f9ed96",
   "metadata": {},
   "source": [
    "This is the sample predictions made by the Transfere learning model. As we can clearly say that there's - 0.0051 difference while compared to the best model in part 1"
   ]
  },
  {
   "cell_type": "markdown",
   "id": "203c0459-504b-431e-9361-1d0e06c94ed1",
   "metadata": {},
   "source": [
    "# Backbone model Reuse Demo"
   ]
  },
  {
   "cell_type": "code",
   "execution_count": null,
   "id": "a908bc36-2b57-45be-bbcd-5a56bdd8ae71",
   "metadata": {
    "scrolled": true
   },
   "outputs": [],
   "source": [
    "# Backbone Model Demo (ResNet50)\n",
    "print(\"Backbone Model Demo (ResNet50):\")\n",
    "\n",
    "# Load best validation accuracy (replace with actual history file)\n",
    "try:\n",
    "    with open('backbone_history.pkl', 'rb') as f:  # history file \n",
    "        history = pickle.load(f)\n",
    "    best_val_accuracy = max(history['val_accuracy'])\n",
    "    print(f\"Best validation accuracy: {best_val_accuracy:.4f}\")\n",
    "except FileNotFoundError:\n",
    "    print(\"Error: 'backbone_history.pkl' not found. Please provide the history file.\")\n",
    "    best_val_accuracy = None\n",
    "\n",
    "# Evaluate Backbone model on test set\n",
    "y_pred_backbone = transfer_model.predict(X_test_class, verbose=0)  # Use RGB images\n",
    "y_pred_backbone_labels = np.argmax(y_pred_backbone, axis=1)\n",
    "y_true_labels = np.argmax(y_test_class, axis=1)\n",
    "test_loss, test_acc = backbone_model.evaluate(X_test, y_test_class)\n",
    "accuracy_diff = test_acc - acc\n",
    "print(f\"Backbone Model Test Accuracy: {test_acc:.4f}\")\n",
    "print(f\"Comparison to Part 1 Best Model ({test_acc:.4f})- {acc:.4f}: : {accuracy_diff:.4f} \")"
   ]
  },
  {
   "cell_type": "markdown",
   "id": "d0f77a38-9635-40f0-a8aa-e70cc425b28c",
   "metadata": {},
   "source": [
    "**Visualize sample predictions from Backbone model**"
   ]
  },
  {
   "cell_type": "code",
   "execution_count": null,
   "id": "e64cb23e-43eb-4dfb-bf28-25c9bf68b678",
   "metadata": {},
   "outputs": [],
   "source": [
    "print(\"Sample Predictions from Backbone Model (ResNet50):\")\n",
    "\n",
    "n_samples = 6\n",
    "indices = np.random.choice(len(X_test_class), n_samples, replace=False)\n",
    "\n",
    "sample_images = X_test_class[indices]\n",
    "sample_preds = y_pred_backbone_labels[indices]\n",
    "sample_trues = y_true_labels[indices]\n",
    "\n",
    "# Decode age categories if available\n",
    "if 'label_encoder' in globals():\n",
    "    pred_labels = label_encoder.inverse_transform(sample_preds)\n",
    "    true_labels = label_encoder.inverse_transform(sample_trues)\n",
    "else:\n",
    "    pred_labels = sample_preds\n",
    "    true_labels = sample_trues\n",
    "\n",
    "# Plotting\n",
    "plt.figure(figsize=(15, 4))\n",
    "for i in range(n_samples):\n",
    "    is_correct = pred_labels[i] == true_labels[i]\n",
    "    color = 'green' if is_correct else 'red'\n",
    "    plt.subplot(1, n_samples, i + 1)\n",
    "    plt.imshow(sample_images[i])\n",
    "    plt.title(f\"True: {true_labels[i]}\\nPred: {pred_labels[i]}\", color=color)\n",
    "    plt.axis('off')\n",
    "\n",
    "plt.suptitle(\"ResNet50 Model: Predicted vs. Actual Age Categories on Test Set\", fontsize=14)\n",
    "plt.tight_layout()\n",
    "plt.show()\n"
   ]
  },
  {
   "cell_type": "markdown",
   "id": "d8e2cac2-9181-4f31-95e1-53ef0fbc1d64",
   "metadata": {},
   "source": [
    "# Gender Bias Analysis Demo"
   ]
  },
  {
   "cell_type": "markdown",
   "id": "9814e3e8-e898-4acf-8430-8f72152ee0cd",
   "metadata": {},
   "source": [
    "**Demo for Gender Bias analysis:**\n",
    "\n",
    "I conducted a gender bias analysis to compare the performance of two models:\n",
    "\n",
    "1. **Biased Model (Male-Only)**: Trained on male-only data\n",
    "2. **Balanced Model**: Trained on a balanced gender dataset\n",
    "\n",
    "For each model, I calculated: Overall accuracy and Accuracy for each gender (Male and Female).\n",
    "  \n",
    "I then visualized the gender-specific accuracies in a bar chart."
   ]
  },
  {
   "cell_type": "code",
   "execution_count": null,
   "id": "f89573f4-b536-41e5-bc70-8dc173222ea9",
   "metadata": {},
   "outputs": [],
   "source": [
    "print(\"Gender Bias Analysis Demo:\")\n",
    "\n",
    "try:\n",
    "    # Load gender info (ensure same order as df_test)\n",
    "    df_test_gender = pd.read_csv(\"test_set_with_gender.csv\")\n",
    "    \n",
    "    if len(df_test_gender) != len(df_test):\n",
    "        raise ValueError(\"Gender test set size mismatch\")\n",
    "    \n",
    "    # Add gender column directly to df_test to ensure alignment\n",
    "    df_test['gender'] = df_test_gender['gender'].values\n",
    "    gender_labels_mapped = df_test['gender'].map({0: 'Male', 1: 'Female'}).values\n",
    "\n",
    "    # True labels from classification test set\n",
    "    y_true = np.argmax(y_test_class, axis=1)\n",
    "\n",
    "    \n",
    "    def evaluate_model(model, name):\n",
    "        loss, acc = model.evaluate(X_test, y_test_class, verbose=0)\n",
    "        print(f\"{name} Overall Accuracy: {acc:.2%}\")\n",
    "        for gender in np.unique(gender_labels_mapped):\n",
    "            mask = gender_labels_mapped == gender\n",
    "            loss_g, acc_g = model.evaluate(X_test[mask], y_test_class[mask], verbose=0)\n",
    "            print(f\"{name} {gender} Accuracy: {acc_g:.2%}\")\n",
    "\n",
    "    # Run evaluations\n",
    "    evaluate_model(biased_model, \"Biased Model (Male-Only)\")\n",
    "    evaluate_model(balanced_model, \"Balanced Model\")\n",
    "\n",
    "\n",
    "except Exception as e:\n",
    "    print(f\"Error: {e}\")"
   ]
  },
  {
   "cell_type": "markdown",
   "id": "4aba9ce1-1075-4276-a288-873193f024a3",
   "metadata": {},
   "source": [
    "**Bar graph visualisation**"
   ]
  },
  {
   "cell_type": "code",
   "execution_count": null,
   "id": "2153eff1-591c-41c0-b1f2-7e6044f045c3",
   "metadata": {
    "scrolled": true
   },
   "outputs": [],
   "source": [
    "# Visualization\n",
    "# Plot gender-specific accuracies for both models\n",
    "genders = np.unique(gender_labels_mapped)\n",
    "plt.figure(figsize=(8, 6))\n",
    "width = 0.35\n",
    "\n",
    "# Accuracy for each gender group\n",
    "accs_biased = [\n",
    "    biased_model.evaluate(X_test[gender_labels_mapped == g], y_test_class[gender_labels_mapped == g], verbose=0)[1]\n",
    "    for g in genders\n",
    "]\n",
    "accs_balanced = [\n",
    "    balanced_model.evaluate(X_test[gender_labels_mapped == g], y_test_class[gender_labels_mapped == g], verbose=0)[1]\n",
    "    for g in genders\n",
    "]\n",
    "\n",
    "# Bar plot\n",
    "plt.bar(np.arange(len(genders)) - width/2, accs_biased, width, label='Biased Model', color='orange')\n",
    "plt.bar(np.arange(len(genders)) + width/2, accs_balanced, width, label='Balanced Model', color='blue')\n",
    "plt.xlabel('Gender')\n",
    "plt.ylabel('Accuracy')\n",
    "plt.title('Gender-Specific Accuracy')\n",
    "plt.xticks(np.arange(len(genders)), genders)\n",
    "plt.legend()\n",
    "plt.tight_layout()\n",
    "plt.show()"
   ]
  },
  {
   "cell_type": "markdown",
   "id": "4217d68b-0858-462b-9d89-4bc194da8c43",
   "metadata": {},
   "source": [
    "**Sample Predictions for Biased and Balanced models**\n",
    "\n",
    "I visualized predictions from two models :\n",
    "**Biased Model** and **Balanced Model** for both **Male** and **Female** test samples.\n",
    "\n",
    "1. **True label**: Actual age category\n",
    "2. **Predicted labels**: Age categories predicted by each model\n",
    "\n",
    "For each image:\n",
    "1. **Green**: Correct prediction\n",
    "2. **Red**: Incorrect prediction\n",
    "\n",
    "The plot displays 3 random samples from both male and female categories, showing the true label along with the predictions from both models.\n"
   ]
  },
  {
   "cell_type": "code",
   "execution_count": null,
   "id": "98a97095-4156-477d-97bb-8e401420e86b",
   "metadata": {
    "scrolled": true
   },
   "outputs": [],
   "source": [
    "# Load data and define mappings\n",
    "df_test_gender = pd.read_csv(\"test_set_with_gender.csv\")\n",
    "gender_labels_mapped = np.array(['Male' if g == 0 else 'Female' for g in df_test_gender['gender']])\n",
    "age_categories = {0: 'Child', 1: 'Mature', 2: 'Mid', 3: 'Youth', 4: 'Older', 5: 'Teen'}\n",
    "\n",
    "# Get predictions\n",
    "y_pred_biased_labels = np.argmax(biased_model.predict(X_test_class, verbose=0), axis=1)\n",
    "y_pred_balanced_labels = np.argmax(balanced_model.predict(X_test_class, verbose=0), axis=1)\n",
    "y_true_labels = np.argmax(y_test_class, axis=1)\n",
    "\n",
    "# Select and plot samples\n",
    "male_indices = np.where(gender_labels_mapped == 'Male')[0]\n",
    "female_indices = np.where(gender_labels_mapped == 'Female')[0]\n",
    "selected_indices = np.concatenate([np.random.choice(male_indices, 3, replace=False), np.random.choice(female_indices, 3, replace=False)])\n",
    "\n",
    "fig, axes = plt.subplots(2, 3, figsize=(12, 8))\n",
    "axes = axes.flatten()\n",
    "\n",
    "for i, idx in enumerate(selected_indices):\n",
    "    img = X_test_class[idx]\n",
    "    true_label = age_categories[y_true_labels[idx]]\n",
    "    biased_pred = age_categories[y_pred_biased_labels[idx]]\n",
    "    balanced_pred = age_categories[y_pred_balanced_labels[idx]]\n",
    "    gender = gender_labels_mapped[idx]\n",
    "\n",
    "    axes[i].imshow(img)\n",
    "    axes[i].axis('off')\n",
    "    axes[i].set_title(gender)\n",
    "    axes[i].text(0, 135, f\"True: {true_label}\", fontsize=10, color='black')\n",
    "    axes[i].text(0, 150, f\"Biased: {biased_pred}\", fontsize=10, color='green' if biased_pred == true_label else 'red')\n",
    "    axes[i].text(0, 165, f\"Balanced: {balanced_pred}\", fontsize=10, color='green' if balanced_pred == true_label else 'red')\n",
    "\n",
    "plt.suptitle('Sample Predictions', fontsize=14)\n",
    "plt.tight_layout(rect=[0, 0, 1, 0.95])\n",
    "plt.show()\n"
   ]
  }
 ],
 "metadata": {
  "kernelspec": {
   "display_name": "Python 3 (ipykernel)",
   "language": "python",
   "name": "python3"
  },
  "language_info": {
   "codemirror_mode": {
    "name": "ipython",
    "version": 3
   },
   "file_extension": ".py",
   "mimetype": "text/x-python",
   "name": "python",
   "nbconvert_exporter": "python",
   "pygments_lexer": "ipython3",
   "version": "3.11.7"
  }
 },
 "nbformat": 4,
 "nbformat_minor": 5
}
